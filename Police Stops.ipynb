{
 "cells": [
  {
   "cell_type": "code",
   "execution_count": 2,
   "metadata": {},
   "outputs": [],
   "source": [
    "import pandas as pd\n",
    "from matplotlib import pyplot as plt\n",
    "import seaborn as sns\n",
    "from matplotlib.patches import Rectangle\n",
    "from sklearn.ensemble import RandomForestClassifier\n",
    "from sklearn.model_selection import train_test_split\n",
    "from sklearn import metrics"
   ]
  },
  {
   "cell_type": "markdown",
   "metadata": {},
   "source": [
    "1) Are certain races stopped at a rate disproportionate to their population? \n",
    "- Yes, black people are stopped 2.3-3.4 times more than their population \n",
    "2) At what times of day are most/least stops made? \n",
    "- The most stops happen betweek 8:00pm and 10:00pm. \n",
    "- The fewest stops happen between 4:00am and 6:00 am. \n",
    "\n",
    "3) Are males or females stopped at higher rates?\n",
    "- ~73-74% of stops are male. This has roughly stayed the same over the past 10 years. In 2010 males made up 69% of the stops. \n",
    "\n",
    "\n",
    "4) In which divisions are the most/least stops made?\n",
    "- The Central division makes the most stops. This is even more apparent when you compare the ratio of the number of stops to the divisions population. However this isn't the best metric because just because the central district \n",
    "5) Have stops increased/decreased over the past 10 years?\n",
    "- \n",
    "6) Are there more traffic stops later in the month (or on a particular day)\n",
    "7) Grouped by officer: Are certain officers more likely to make a stop on a person of particular descent?\n",
    "8) Are certain races more likely to have Post Stop Activity?\n",
    "- Yes"
   ]
  },
  {
   "cell_type": "code",
   "execution_count": 3,
   "metadata": {},
   "outputs": [],
   "source": [
    "pd.options.display.max_rows = 20"
   ]
  },
  {
   "cell_type": "code",
   "execution_count": null,
   "metadata": {},
   "outputs": [],
   "source": [
    "df = pd.read_csv('Vehicle_and_Pedestrian_Stop_Data_2010_to_Present.csv', parse_dates = ['Stop Date'])"
   ]
  },
  {
   "cell_type": "code",
   "execution_count": null,
   "metadata": {},
   "outputs": [],
   "source": [
    "df['Stop Date'] = pd.to_datetime(df['Stop Date'])\n",
    "df['Stop Time'] = pd.to_datetime(df['Stop Time'])"
   ]
  },
  {
   "cell_type": "code",
   "execution_count": null,
   "metadata": {},
   "outputs": [],
   "source": [
    "df['Stop Year'] = df['Stop Date'].dt.year\n",
    "df['Stop Month'] = df['Stop Date'].dt.month\n",
    "df['Stop Day'] = df['Stop Date'].dt.day\n",
    "df['Stop Day Name'] = df['Stop Date'].dt.dayofweek\n",
    "\n",
    "df = df.drop(df[df['Stop Year'] == 1900].index)\n",
    "df['Stop Year'].value_counts()"
   ]
  },
  {
   "cell_type": "code",
   "execution_count": null,
   "metadata": {},
   "outputs": [],
   "source": [
    "year_descent_grouped = df.groupby('Stop Year')['Descent Description'].value_counts(normalize=True)"
   ]
  },
  {
   "cell_type": "code",
   "execution_count": null,
   "metadata": {},
   "outputs": [],
   "source": [
    "stops_per_year = pd.DataFrame(df['Stop Year'].value_counts()).reset_index()\n",
    "stops_per_year\n",
    "sns.barplot(x='index', y='Stop Year', data=stops_per_year)"
   ]
  },
  {
   "cell_type": "code",
   "execution_count": null,
   "metadata": {},
   "outputs": [],
   "source": [
    "sns.set_style('darkgrid')"
   ]
  },
  {
   "cell_type": "code",
   "execution_count": null,
   "metadata": {},
   "outputs": [],
   "source": [
    "grouped_df = pd.DataFrame(year_descent_grouped)\n",
    "grouped_df = grouped_df.rename(columns={'Descent Description':'Percent'})\n",
    "grouped_df = grouped_df.reset_index()\n",
    "# print(grouped_df)\n",
    "# grouped_df.resent\n",
    "\n",
    "#print(grouped_df)\n",
    "fig, ax = plt.subplots(figsize = (20, 8))\n",
    "\n",
    "sns.barplot(x='Stop Year', y='Percent', data=grouped_df, hue='Descent Description', ax=ax)\n",
    "la_race_breakdown_2010 = {'hispanic':0.475, 'white':0.524, 'black':0.086, 'other':0.211, 'asian':.138, 'native american':0.005, 'multi_descents':0.034}\n",
    "\n",
    "bars = [r for r in ax.get_children() if type(r)==Rectangle]\n",
    "colors = [c.get_facecolor() for c in bars[:-1]]\n",
    "def unique(lst):\n",
    "    unique_list = []\n",
    "    for c in lst:\n",
    "        if c not in unique_list:\n",
    "            unique_list.append(c)\n",
    "    return unique_list\n",
    "\n",
    "colors = unique(colors)\n",
    "\n",
    "i = 0\n",
    "for x in la_race_breakdown_2010.values():\n",
    "    ax.axhline(x, color=colors[i], alpha=0.7)\n",
    "    i += 1\n",
    "\n",
    "xlabels = list(range(2010, 2021))\n",
    "print(xlabels)\n",
    "ylabels = list(x/10.0 for x in range(0, 6))\n",
    "print(ylabels)\n",
    "    \n",
    "ax.set_title('Police Stops by Race since 2010', fontsize=20);\n",
    "ax.set_xticklabels(labels = xlabels, fontsize=12);\n",
    "ax.set_yticklabels(labels = ylabels, fontsize=12);\n",
    "ax.set_xlabel('Year', fontsize=15)\n",
    "ax.set_ylabel('Percent', fontsize=15)"
   ]
  },
  {
   "cell_type": "markdown",
   "metadata": {},
   "source": [
    "As we can see, over the past 10 years black people have been far more likely to stopped by officers"
   ]
  },
  {
   "cell_type": "code",
   "execution_count": null,
   "metadata": {
    "scrolled": true
   },
   "outputs": [],
   "source": [
    "grouped_df"
   ]
  },
  {
   "cell_type": "code",
   "execution_count": null,
   "metadata": {},
   "outputs": [],
   "source": [
    "la_race_breakdown_2010 = {'HISPANIC':0.475, 'WHITE':0.524, 'BLACK':0.086, 'OTHER':0.211, 'ASIAN':.138, 'AMERICAN INDIAN':0.005, 'MULTI-DESCENTS':0.034}\n",
    "grouped_df['Percent_normalized'] = grouped_df['Percent']\n",
    "grouped_df['Percent_normalized'] = grouped_df.apply(lambda row: row['Percent_normalized']/la_race_breakdown_2010[row['Descent Description']], axis=1)\n"
   ]
  },
  {
   "cell_type": "code",
   "execution_count": null,
   "metadata": {},
   "outputs": [],
   "source": [
    "grouped_df.loc[grouped_df['Descent Description']=='BLACK']"
   ]
  },
  {
   "cell_type": "code",
   "execution_count": null,
   "metadata": {},
   "outputs": [],
   "source": [
    "fig, ax3 = plt.subplots(figsize=(16, 8))\n",
    "sns.barplot(x='Stop Year', y='Percent_normalized', hue='Descent Description', data=grouped_df, ax=ax3)"
   ]
  },
  {
   "cell_type": "code",
   "execution_count": null,
   "metadata": {},
   "outputs": [],
   "source": [
    "fig, ax2 = plt.subplots(figsize=(16, 8))\n",
    "sns.lineplot(x='Stop Year', y='Percent', hue='Descent Description', data=grouped_df)\n",
    "\n",
    "la_race_breakdown_2010 = {'hispanic':0.475, 'white':0.524, 'black':0.086, 'other':0.211, 'asian':.138, 'native american':0.005, 'multi_descents':0.034}\n",
    "\n",
    "bars = [r for r in ax.get_children() if type(r)==Rectangle]\n",
    "colors = [c.get_facecolor() for c in bars[:-1]]\n",
    "def unique(lst):\n",
    "    unique_list = []\n",
    "    for c in lst:\n",
    "        if c not in unique_list:\n",
    "            unique_list.append(c)\n",
    "    return unique_list\n",
    "\n",
    "colors = unique(colors)\n",
    "\n",
    "i = 0\n",
    "for x in la_race_breakdown_2010.values():\n",
    "    ax2.axhline(x, color=colors[i], linewidth = 0.6, alpha=1, linestyle='-.')\n",
    "    i += 1\n",
    "\n",
    "\n",
    "ax2.set_title('Police Stops by Race since 2010', fontsize=20);\n",
    "ax2.set_xticks(list(range(2010, 2021)))\n",
    "ax2.set_xticklabels(labels = xlabels, fontsize=12);\n",
    "ax2.set_yticklabels(labels = ylabels, fontsize=12);\n",
    "\n",
    "ax2.set_xlabel('Year', fontsize=15)\n",
    "ax2.set_ylabel('Percent', fontsize=15)\n",
    "ax2.legend(loc=1)"
   ]
  },
  {
   "cell_type": "markdown",
   "metadata": {},
   "source": []
  },
  {
   "cell_type": "code",
   "execution_count": null,
   "metadata": {},
   "outputs": [],
   "source": [
    "gender_group = pd.DataFrame(df.groupby('Stop Year')['Sex Code'].value_counts(normalize=True))\n",
    "\n",
    "gender_group.rename(columns={'Sex Code':'Percent'},inplace=True)\n",
    "gender_group = gender_group.reset_index()"
   ]
  },
  {
   "cell_type": "code",
   "execution_count": null,
   "metadata": {},
   "outputs": [],
   "source": [
    "gender_group"
   ]
  },
  {
   "cell_type": "code",
   "execution_count": null,
   "metadata": {},
   "outputs": [],
   "source": [
    "fig, ax3 = plt.subplots(figsize=(12, 8))\n",
    "sns.barplot(x='Stop Year', y='Percent', hue='Sex Code', data=gender_group)\n"
   ]
  },
  {
   "cell_type": "code",
   "execution_count": null,
   "metadata": {},
   "outputs": [],
   "source": [
    "male_stops = gender_group.loc[gender_group['Sex Code'] == 'M', 'Percent']\n",
    "female_stops = gender_group.loc[gender_group['Sex Code'] == 'F', 'Percent']\n",
    "total = [1, 1, 1, 1, 1, 1, 1, 1, 1, 1, 1]\n",
    "sns.barplot(x = list(range(2010, 2021)), y = total, color='#ff9933')\n",
    "bottom_plot = sns.barplot(x = list(range(2010, 2021)), y = male_stops, color='#008ae6')\n",
    "topbar = plt.Rectangle((0,0), 1, 1, fc='#ff9933', edgecolor='none')\n",
    "bottombar = plt.Rectangle((0,0), 1, 1, fc='#008ae6', edgecolor='none')\n",
    "l = plt.legend([bottombar, topbar], ['Male', 'Female'], loc=0)\n",
    "l.draw_frame(False)\n"
   ]
  },
  {
   "cell_type": "code",
   "execution_count": null,
   "metadata": {},
   "outputs": [],
   "source": [
    "df['Stop Time'] = pd.to_datetime(df['Stop Time'])\n",
    "df['Stop Hour'] = df['Stop Time'].dt.hour\n",
    "df"
   ]
  },
  {
   "cell_type": "code",
   "execution_count": null,
   "metadata": {},
   "outputs": [],
   "source": [
    "df['Stop Hour'].value_counts(normalize=True).sort_index().plot.bar()"
   ]
  },
  {
   "cell_type": "code",
   "execution_count": null,
   "metadata": {},
   "outputs": [],
   "source": [
    "df['Stop Day'].value_counts(normalize=True).sort_index().plot.bar()"
   ]
  },
  {
   "cell_type": "code",
   "execution_count": null,
   "metadata": {},
   "outputs": [],
   "source": [
    "df['Stop Day Name'].value_counts(normalize=True).sort_index().plot.bar()"
   ]
  },
  {
   "cell_type": "code",
   "execution_count": null,
   "metadata": {},
   "outputs": [],
   "source": [
    "df['Stop Month'].value_counts(normalize=True).sort_index().plot.bar()"
   ]
  },
  {
   "cell_type": "code",
   "execution_count": null,
   "metadata": {},
   "outputs": [],
   "source": [
    "df['Stop Hour'].value_counts(normalize=True).sort_index()"
   ]
  },
  {
   "cell_type": "code",
   "execution_count": null,
   "metadata": {},
   "outputs": [],
   "source": [
    "stop_types = df['Stop Type'].value_counts(normalize=True)\n",
    "stop_types.plot.bar()"
   ]
  },
  {
   "cell_type": "code",
   "execution_count": null,
   "metadata": {},
   "outputs": [],
   "source": [
    "df_no_null_div = df.dropna(subset = ['Division Description 1'])"
   ]
  },
  {
   "cell_type": "code",
   "execution_count": null,
   "metadata": {},
   "outputs": [],
   "source": [
    "traffic_division = df_no_null_div[df_no_null_div['Division Description 1'].str.endswith('TRAFFIC')]\n",
    "traffic_division['Division Description 1'].value_counts()"
   ]
  },
  {
   "cell_type": "code",
   "execution_count": null,
   "metadata": {},
   "outputs": [],
   "source": [
    "traffic_division['Division Description 1'].value_counts().plot.bar()"
   ]
  },
  {
   "cell_type": "code",
   "execution_count": null,
   "metadata": {},
   "outputs": [],
   "source": [
    "list(df_no_null_div['Division Description 1'].unique())"
   ]
  },
  {
   "cell_type": "code",
   "execution_count": null,
   "metadata": {},
   "outputs": [],
   "source": [
    "la_divisions = ['MISSION', 'WEST LA', 'SEVENTY-SEVENTH', 'NORTH EAST', 'TOPANGA', 'WEST VALLEY', 'OLYMPIC', 'SOUTH EAST', 'VALLEY BUREAU', 'SOUTH WEST', 'FOOTHILL', \n",
    "                'NEWTON', 'RAMPART', 'HOLLYWOOD', 'NORTH HOLLYWOOD', 'WILSHIRE', 'DEVONSHIRE', 'VAN NUYS', 'WEST BUREAU', 'CENTRAL', 'PACIFIC', 'HOLLENBECK', \n",
    "                'HARBOR', 'CENTRAL BUREAU', 'SOUTH BUREAU']\n",
    "\n",
    "la_divisions_df = df_no_null_div.loc[df_no_null_div['Division Description 1'].isin(la_divisions)]"
   ]
  },
  {
   "cell_type": "code",
   "execution_count": null,
   "metadata": {},
   "outputs": [],
   "source": [
    "la_divisions_df['Division Description 1'].value_counts().plot.bar(figsize=(12, 8))"
   ]
  },
  {
   "cell_type": "code",
   "execution_count": null,
   "metadata": {},
   "outputs": [],
   "source": [
    "area_populations = {'CENTRAL':40000, 'HOLLENBECK': 200000, 'NEWTON':150000, 'NORTH EAST':250000, 'RAMPART':164961, 'SOUTH WEST':164552, 'SEVENTY-SEVENTH':175522, 'SOUTH EAST':127984, 'HARBOR':171866,\n",
    "                   'HOLLYWOOD':300000, 'OLYMPIC': 200000, 'PACIFIC':200000, 'WEST LA':228000, 'WILSHIRE':251000, \n",
    "                    'DEVONSHIRE':219136, 'FOOTHILL':182214, 'MISSION':225849, 'NORTH HOLLYWOOD':220000, 'TOPANGA':57032, 'VAN NUYS':325000, 'WEST VALLEY':196840}\n",
    "\n",
    "normalized_la_divisions_df = la_divisions_df['Division Description 1'].value_counts()\n",
    "normalized_la_divisions_df = normalized_la_divisions_df.drop(['VALLEY BUREAU', 'WEST BUREAU', 'SOUTH BUREAU', 'CENTRAL BUREAU'])\n",
    "normalized_la_divisions_df = pd.DataFrame(normalized_la_divisions_df).reset_index()\n"
   ]
  },
  {
   "cell_type": "code",
   "execution_count": null,
   "metadata": {},
   "outputs": [],
   "source": [
    "normalized_la_divisions_df['Stops/Population'] = normalized_la_divisions_df.apply(lambda x: x['Division Description 1']/area_populations[x['index']], axis=1)\n",
    "normalized_la_divisions_df"
   ]
  },
  {
   "cell_type": "code",
   "execution_count": null,
   "metadata": {},
   "outputs": [],
   "source": [
    "normalized_la_divisions_df.plot.bar(x='index', y='Stops/Population', figsize=(12, 8))"
   ]
  },
  {
   "cell_type": "code",
   "execution_count": null,
   "metadata": {},
   "outputs": [],
   "source": [
    "post_stop_race = df.groupby('Descent Description')['Post Stop Activity Indicator'].value_counts(normalize=True)\n",
    "post_stop_race_df = pd.DataFrame(post_stop_race)"
   ]
  },
  {
   "cell_type": "code",
   "execution_count": null,
   "metadata": {},
   "outputs": [],
   "source": [
    "post_stop_race_df = post_stop_race_df.rename(columns={'Post Stop Activity Indicator':'Percentage'})\n",
    "post_stop_race_df.reset_index(inplace=True)"
   ]
  },
  {
   "cell_type": "code",
   "execution_count": null,
   "metadata": {},
   "outputs": [],
   "source": [
    "post_stop_race_df = post_stop_race_df[post_stop_race_df['Post Stop Activity Indicator'] == 'Y']\n",
    "post_stop_race_df"
   ]
  },
  {
   "cell_type": "code",
   "execution_count": null,
   "metadata": {},
   "outputs": [],
   "source": [
    "fig, ax4 = plt.subplots(figsize=(12, 8))\n",
    "sns.barplot(x = 'Descent Description', y='Percentage', data = post_stop_race_df)\n",
    "ax4.set_title('Percentage of Stops that resulted in Post Stop Activity by Race', fontsize=18)"
   ]
  },
  {
   "cell_type": "markdown",
   "metadata": {},
   "source": [
    "Black, Hispanic, and people of Multiple Descents are much more likely to be involved in post stop activity compared to Asian, White, American Indian and Other. "
   ]
  },
  {
   "cell_type": "code",
   "execution_count": null,
   "metadata": {},
   "outputs": [],
   "source": []
  },
  {
   "cell_type": "code",
   "execution_count": null,
   "metadata": {},
   "outputs": [],
   "source": [
    "df['Officer 1 Serial Number'].value_counts()\n",
    "top20_index = list(df['Officer 1 Serial Number'].value_counts().head(20).index)\n",
    "top20_index"
   ]
  },
  {
   "cell_type": "code",
   "execution_count": null,
   "metadata": {},
   "outputs": [],
   "source": [
    "top20_df = df[df['Officer 1 Serial Number'].isin(top20_index)]\n",
    "\n",
    "top20_df\n"
   ]
  },
  {
   "cell_type": "code",
   "execution_count": null,
   "metadata": {},
   "outputs": [],
   "source": [
    "top20_df = pd.DataFrame(top20_df.groupby(['Officer 1 Serial Number'])['Descent Description'].value_counts(normalize=True))\n",
    "top20_df = top20_df.rename(columns={'Descent Description':'Percent'})\n",
    "top20_df"
   ]
  },
  {
   "cell_type": "code",
   "execution_count": null,
   "metadata": {},
   "outputs": [],
   "source": [
    "top20_df.reset_index(inplace=True)"
   ]
  },
  {
   "cell_type": "code",
   "execution_count": null,
   "metadata": {},
   "outputs": [],
   "source": [
    "fig, ax5 = plt.subplots(figsize=(20, 8))\n",
    "sns.barplot(x='Officer 1 Serial Number', y='Percent', hue='Descent Description', data=top20_df)"
   ]
  },
  {
   "cell_type": "code",
   "execution_count": null,
   "metadata": {},
   "outputs": [],
   "source": [
    "df"
   ]
  },
  {
   "cell_type": "code",
   "execution_count": null,
   "metadata": {},
   "outputs": [],
   "source": [
    "hour_descent_group = df.groupby('Stop Hour')['Descent Description'].value_counts(normalize=True)\n",
    "hour_descent_group_df = pd.DataFrame(hour_descent_group)\n",
    "hour_descent_group_df = hour_descent_group_df.rename(columns={'Descent Description':'Percent'}).reset_index()\n",
    "\n",
    "stops_by_race = df['Descent Description'].value_counts(normalize=True)\n",
    "\n",
    "\n",
    "fig, ax = plt.subplots(figsize=(20,8))\n",
    "sns.barplot(x='Stop Hour', y='Percent', hue='Descent Description', data=hour_descent_group_df)\n",
    "\n",
    "bars = [r for r in ax.get_children() if type(r)==Rectangle]\n",
    "colors = [c.get_facecolor() for c in bars[:-1]]\n",
    "def unique(lst):\n",
    "    unique_list = []\n",
    "    for c in lst:\n",
    "        if c not in unique_list:\n",
    "            unique_list.append(c)\n",
    "    return unique_list\n",
    "\n",
    "colors = unique(colors)\n",
    "\n",
    "i = 0\n",
    "for x in stops_by_race:\n",
    "    ax.axhline(x, color=colors[i], linewidth = 0.6, alpha=1, linestyle='-.')\n",
    "    i += 1\n",
    "    \n",
    "ax.set_title('Stops made each hour by Race', fontsize=20)"
   ]
  },
  {
   "cell_type": "code",
   "execution_count": null,
   "metadata": {},
   "outputs": [],
   "source": [
    "df"
   ]
  },
  {
   "cell_type": "code",
   "execution_count": null,
   "metadata": {},
   "outputs": [],
   "source": [
    "df['Descent Description'].value_counts(normalize=True)\n"
   ]
  },
  {
   "cell_type": "code",
   "execution_count": null,
   "metadata": {},
   "outputs": [],
   "source": [
    "x = 7\n",
    "4 < x < 6"
   ]
  },
  {
   "cell_type": "code",
   "execution_count": null,
   "metadata": {},
   "outputs": [],
   "source": [
    "def time_category(hour):\n",
    "    if 6 <= hour < 12:\n",
    "        return 'morning'\n",
    "    elif 12 <= hour < 17:\n",
    "        return 'afternoon'\n",
    "    elif 17 <= hour < 20:\n",
    "        return 'evening'\n",
    "    else:\n",
    "        return 'night'\n",
    "\n",
    "df['Time Category'] = df['Stop Hour'].apply(time_category)\n",
    "df"
   ]
  },
  {
   "cell_type": "code",
   "execution_count": null,
   "metadata": {},
   "outputs": [],
   "source": [
    "time_descent_group = df.groupby('Time Category')['Descent Description'].value_counts(normalize=True)\n",
    "time_descent_group_df = pd.DataFrame(time_descent_group)\n",
    "time_descent_group_df = time_descent_group_df.rename(columns={'Descent Description':'Percent'}).reset_index()\n",
    "\n",
    "time_descent_group_df\n",
    "\n"
   ]
  },
  {
   "cell_type": "code",
   "execution_count": null,
   "metadata": {},
   "outputs": [],
   "source": [
    "d = {'morning':1, 'afternoon':2, 'evening':3, 'night':4}\n",
    "d1 = {'HISPANIC':1, 'BLACK':2, 'WHITE':3, 'ASIAN':4, 'OTHER':5, 'MULTI-DESCENTS':6, 'AMERICAN INDIAN':7}\n",
    "d2 = {1:'morning', 2:'afternoon', 3:'evening', 4:'night'}\n",
    "d3 = {1:'HISPANIC', 2:'BLACK', 3:'WHITE', 4:'ASIAN', 5:'OTHER', 6:'MULTI-DESCENTS', 7:'AMERICAN INDIAN'}\n",
    "\n",
    "\n",
    "time_descent_group_df = time_descent_group_df.replace(d).replace(d1).sort_values(['Time Category', 'Descent Description'])\n",
    "time_descent_group_df['Time Category'] = time_descent_group_df['Time Category'].replace(d2)\n",
    "time_descent_group_df['Descent Description'] = time_descent_group_df['Descent Description'].replace(d3)\n",
    "time_descent_group_df"
   ]
  },
  {
   "cell_type": "code",
   "execution_count": null,
   "metadata": {},
   "outputs": [],
   "source": [
    "\n",
    "\n",
    "fig, ax5 = plt.subplots(figsize=(20,8))\n",
    "sns.barplot(x='Time Category', y='Percent', hue='Descent Description', data=time_descent_group_df)\n",
    "\n",
    "bars = [r for r in ax.get_children() if type(r)==Rectangle]\n",
    "colors = [c.get_facecolor() for c in bars[:-1]]\n",
    "def unique(lst):\n",
    "    unique_list = []\n",
    "    for c in lst:\n",
    "        if c not in unique_list:\n",
    "            unique_list.append(c)\n",
    "    return unique_list\n",
    "\n",
    "colors = unique(colors)\n",
    "\n",
    "i = 0\n",
    "for x in stops_by_race:\n",
    "    ax5.axhline(x, color=colors[i], linewidth = 0.6, alpha=1, linestyle='-.')\n",
    "    i += 1\n",
    "    \n",
    "ax5.set_title('Stops made each time of day by Race', fontsize=20)\n",
    "\n",
    "ax5.set_xlabel('Time Category\\n Morning: 6:00-11:59, Afternoon: 12:00-4:59, Evening: 5:00 - 7:59pm, Night: 8:00pm - 5:59am', fontsize=14)\n"
   ]
  },
  {
   "cell_type": "code",
   "execution_count": null,
   "metadata": {},
   "outputs": [],
   "source": [
    "vehicle_stops = df[df['Stop Type']=='VEH']\n",
    "\n",
    "vehicle_time_descent_group = vehicle_stops.groupby('Time Category')['Descent Description'].value_counts(normalize=True)\n",
    "vehicle_time_descent_group_df = pd.DataFrame(vehicle_time_descent_group)\n",
    "vehicle_time_descent_group_df = vehicle_time_descent_group_df.rename(columns={'Descent Description':'Percent'}).reset_index()\n",
    "\n",
    "\n",
    "\n",
    "d = {'morning':1, 'afternoon':2, 'evening':3, 'night':4}\n",
    "d1 = {'HISPANIC':1, 'BLACK':2, 'WHITE':3, 'ASIAN':4, 'OTHER':5, 'MULTI-DESCENTS':6, 'AMERICAN INDIAN':7}\n",
    "d2 = {1:'morning', 2:'afternoon', 3:'evening', 4:'night'}\n",
    "d3 = {1:'HISPANIC', 2:'BLACK', 3:'WHITE', 4:'ASIAN', 5:'OTHER', 6:'MULTI-DESCENTS', 7:'AMERICAN INDIAN'}\n",
    "\n",
    "\n",
    "vehicle_time_descent_group_df = vehicle_time_descent_group_df.replace(d).replace(d1).sort_values(['Time Category', 'Descent Description'])\n",
    "vehicle_time_descent_group_df['Time Category'] = vehicle_time_descent_group_df['Time Category'].replace(d2)\n",
    "vehicle_time_descent_group_df['Descent Description'] = vehicle_time_descent_group_df['Descent Description'].replace(d3)\n",
    "vehicle_time_descent_group_df"
   ]
  },
  {
   "cell_type": "code",
   "execution_count": null,
   "metadata": {},
   "outputs": [],
   "source": [
    "fig, ax6 = plt.subplots(figsize=(20,8))\n",
    "sns.barplot(x='Time Category', y='Percent', hue='Descent Description', data=vehicle_time_descent_group_df)\n",
    "\n",
    "bars = [r for r in ax.get_children() if type(r)==Rectangle]\n",
    "colors = [c.get_facecolor() for c in bars[:-1]]\n",
    "def unique(lst):\n",
    "    unique_list = []\n",
    "    for c in lst:\n",
    "        if c not in unique_list:\n",
    "            unique_list.append(c)\n",
    "    return unique_list\n",
    "\n",
    "colors = unique(colors)\n",
    "\n",
    "i = 0\n",
    "for x in stops_by_race:\n",
    "    ax6.axhline(x, color=colors[i], linewidth = 0.6, alpha=1, linestyle='-.')\n",
    "    i += 1\n",
    "    \n",
    "ax6.set_title('Stops made each time of day by Race', fontsize=20)\n",
    "\n",
    "ax6.set_xlabel('Time Category\\n Morning: 6:00-11:59, Afternoon: 12:00-4:59, Evening: 5:00 - 7:59pm, Night: 8:00pm - 5:59am', fontsize=14)"
   ]
  },
  {
   "cell_type": "code",
   "execution_count": null,
   "metadata": {},
   "outputs": [],
   "source": [
    "df"
   ]
  },
  {
   "cell_type": "code",
   "execution_count": null,
   "metadata": {},
   "outputs": [],
   "source": [
    "new_df = df[['Sex Code', 'Descent Description', 'Stop Type', 'Stop Hour', 'Time Category', 'Stop Year', 'Stop Month', 'Stop Day', 'Stop Day Name', 'Division Description 1', 'Post Stop Activity Indicator']]"
   ]
  },
  {
   "cell_type": "code",
   "execution_count": null,
   "metadata": {},
   "outputs": [],
   "source": [
    "new_df"
   ]
  },
  {
   "cell_type": "code",
   "execution_count": null,
   "metadata": {},
   "outputs": [],
   "source": [
    "la_divisions = ['MISSION', 'WEST LA', 'SEVENTY-SEVENTH', 'NORTH EAST', 'TOPANGA', 'WEST VALLEY', 'OLYMPIC', 'SOUTH EAST', 'VALLEY BUREAU', 'SOUTH WEST', 'FOOTHILL', \n",
    "                'NEWTON', 'RAMPART', 'HOLLYWOOD', 'NORTH HOLLYWOOD', 'WILSHIRE', 'DEVONSHIRE', 'VAN NUYS', 'WEST BUREAU', 'CENTRAL', 'PACIFIC', 'HOLLENBECK', \n",
    "                'HARBOR', 'CENTRAL BUREAU', 'SOUTH BUREAU']\n",
    "\n",
    "new_df = new_df.loc[new_df['Division Description 1'].isin(la_divisions)]\n",
    "\n",
    "new_df"
   ]
  },
  {
   "cell_type": "code",
   "execution_count": null,
   "metadata": {},
   "outputs": [],
   "source": [
    "new_df = new_df.dropna(axis=0)"
   ]
  },
  {
   "cell_type": "code",
   "execution_count": null,
   "metadata": {},
   "outputs": [],
   "source": [
    "new_df.isnull().sum()"
   ]
  },
  {
   "cell_type": "code",
   "execution_count": null,
   "metadata": {},
   "outputs": [],
   "source": [
    "new_df['Post Stop Activity Indicator'].value_counts(normalize=True)"
   ]
  },
  {
   "cell_type": "code",
   "execution_count": null,
   "metadata": {},
   "outputs": [],
   "source": [
    "new_df"
   ]
  },
  {
   "cell_type": "code",
   "execution_count": null,
   "metadata": {},
   "outputs": [],
   "source": [
    "X = new_df.drop(['Post Stop Activity Indicator'], axis=1)\n",
    "y = new_df['Post Stop Activity Indicator']"
   ]
  },
  {
   "cell_type": "code",
   "execution_count": null,
   "metadata": {},
   "outputs": [],
   "source": [
    "X_dummy = pd.get_dummies(X.astype(str))\n"
   ]
  },
  {
   "cell_type": "code",
   "execution_count": null,
   "metadata": {},
   "outputs": [],
   "source": []
  }
 ],
 "metadata": {
  "kernelspec": {
   "display_name": "Python 3",
   "language": "python",
   "name": "python3"
  },
  "language_info": {
   "codemirror_mode": {
    "name": "ipython",
    "version": 3
   },
   "file_extension": ".py",
   "mimetype": "text/x-python",
   "name": "python",
   "nbconvert_exporter": "python",
   "pygments_lexer": "ipython3",
   "version": "3.7.4"
  }
 },
 "nbformat": 4,
 "nbformat_minor": 4
}
